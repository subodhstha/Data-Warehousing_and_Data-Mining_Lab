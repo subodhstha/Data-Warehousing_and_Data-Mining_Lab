{
 "cells": [
  {
   "cell_type": "code",
   "execution_count": 6,
   "metadata": {},
   "outputs": [
    {
     "name": "stdout",
     "output_type": "stream",
     "text": [
      "Original Dataset:\n",
      "    Marks  Age  Study Hours\n",
      "0     45   20            2\n",
      "1     60   21            4\n",
      "2     75   22            6\n",
      "3     80   23            8\n",
      "4     65   20            5\n",
      "5     50   21            3\n",
      "6     85   22            7\n",
      "7     90   23            9\n",
      "8     40   19            1\n",
      "9     95   24           10\n",
      "\n",
      "Processed Dataset after Preprocessing:\n",
      "        Marks  Age  Study Hours  Marks Discretized\n",
      "0  45.000000   20            2                0.0\n",
      "1  60.000000   21            4                1.0\n",
      "2  67.777778   22            6                1.0\n",
      "3  80.000000   23            8                2.0\n",
      "4  65.000000   20            5                1.0\n",
      "5  50.000000   21            3                0.0\n",
      "6  85.000000   22            7                2.0\n",
      "7  90.000000   23            9                2.0\n",
      "8  40.000000   19            1                0.0\n",
      "9  95.000000   24           10                2.0\n"
     ]
    }
   ],
   "source": [
    "import pandas as pd\n",
    "import numpy as np\n",
    "from sklearn.preprocessing import KBinsDiscretizer\n",
    "\n",
    "# Sample dataset: Student Performance (focusing on \"Marks\")\n",
    "data = {\n",
    "    \"Marks\": [45, 60, 75, 80, 65, 50, 85, 90, 40, 95],\n",
    "    \"Age\": [20, 21, 22, 23, 20, 21, 22, 23, 19, 24],\n",
    "    \"Study Hours\": [2, 4, 6, 8, 5, 3, 7, 9, 1, 10]\n",
    "}\n",
    "\n",
    "df = pd.DataFrame(data)\n",
    "print(\"Original Dataset:\\n\", df)\n",
    "# Correctly introduce a missing value in the \"Marks\" column for demonstration\n",
    "df.loc[2, 'Marks'] = np.nan\n",
    "\n",
    "# Handle Missing Data: Fill missing values in \"Marks\" with the column's mean\n",
    "df['Marks'] = df['Marks'].fillna(df['Marks'].mean())\n",
    "\n",
    "# Remove Duplicates\n",
    "df = df.drop_duplicates()\n",
    "\n",
    "# Discretize \"Marks\" into 3 categories: Low, Medium, High\n",
    "kbins = KBinsDiscretizer(n_bins=3, encode='ordinal', strategy='uniform')\n",
    "df['Marks Discretized'] = kbins.fit_transform(df[['Marks']])\n",
    "\n",
    "# Handle Outliers: Remove any marks outside of 1.5 * IQR\n",
    "Q1 = df['Marks'].quantile(0.25)\n",
    "Q3 = df['Marks'].quantile(0.75)\n",
    "IQR = Q3 - Q1\n",
    "df = df[(df['Marks'] >= (Q1 - 1.5 * IQR)) & (df['Marks'] <= (Q3 + 1.5 * IQR))]\n",
    "\n",
    "# Remove noisy data: Consider marks lower than 40 as noise\n",
    "df = df[df['Marks'] >= 40]\n",
    "\n",
    "# Display the processed dataset\n",
    "print(\"\\nProcessed Dataset after Preprocessing:\\n\", df)\n"
   ]
  }
 ],
 "metadata": {
  "kernelspec": {
   "display_name": "dwdm_env",
   "language": "python",
   "name": "python3"
  },
  "language_info": {
   "codemirror_mode": {
    "name": "ipython",
    "version": 3
   },
   "file_extension": ".py",
   "mimetype": "text/x-python",
   "name": "python",
   "nbconvert_exporter": "python",
   "pygments_lexer": "ipython3",
   "version": "3.12.8"
  }
 },
 "nbformat": 4,
 "nbformat_minor": 2
}
