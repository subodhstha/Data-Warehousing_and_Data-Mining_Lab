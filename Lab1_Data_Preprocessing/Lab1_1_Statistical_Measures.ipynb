{
 "cells": [
  {
   "cell_type": "code",
   "execution_count": 9,
   "metadata": {},
   "outputs": [
    {
     "name": "stdout",
     "output_type": "stream",
     "text": [
      "Statistical Measures for Marks:\n",
      "Mean: 68.5\n",
      "Median: 70.0\n",
      "Mode: 40\n",
      "Standard Deviation: 19.443650777453175\n",
      "Variance: 378.05555555555554\n"
     ]
    }
   ],
   "source": [
    "import pandas as pd\n",
    "import numpy as np\n",
    "from scipy import stats\n",
    "\n",
    "# Sample dataset: Student Performance (only focusing on \"Marks\")\n",
    "data = {\n",
    "    \"Marks\": [45, 60, 75, 80, 65, 50, 85, 90, 40, 95]\n",
    "}\n",
    "\n",
    "# Convert to DataFrame\n",
    "df = pd.DataFrame(data)\n",
    "\n",
    "# Calculate the statistical measures for \"Marks\"\n",
    "mean_marks = df[\"Marks\"].mean()\n",
    "median_marks = df[\"Marks\"].median()\n",
    "mode_marks = df[\"Marks\"].mode().iloc[0]  # mode() returns a dataframe, so we take the first row\n",
    "std_dev_marks = df[\"Marks\"].std()\n",
    "variance_marks = df[\"Marks\"].var()\n",
    "\n",
    "# Print the results\n",
    "print(\"Statistical Measures for Marks:\")\n",
    "print(f\"Mean: {mean_marks}\")\n",
    "print(f\"Median: {median_marks}\")\n",
    "print(f\"Mode: {mode_marks}\")\n",
    "print(f\"Standard Deviation: {std_dev_marks}\")\n",
    "print(f\"Variance: {variance_marks}\")\n"
   ]
  }
 ],
 "metadata": {
  "kernelspec": {
   "display_name": "dwdm_env",
   "language": "python",
   "name": "python3"
  },
  "language_info": {
   "codemirror_mode": {
    "name": "ipython",
    "version": 3
   },
   "file_extension": ".py",
   "mimetype": "text/x-python",
   "name": "python",
   "nbconvert_exporter": "python",
   "pygments_lexer": "ipython3",
   "version": "3.12.8"
  }
 },
 "nbformat": 4,
 "nbformat_minor": 2
}
