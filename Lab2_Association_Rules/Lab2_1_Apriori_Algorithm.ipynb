{
 "cells": [
  {
   "cell_type": "code",
   "execution_count": 5,
   "metadata": {},
   "outputs": [
    {
     "name": "stdout",
     "output_type": "stream",
     "text": [
      "Encoded Dataset:\n",
      "    Bread  Butter    Dal   Eggs   Milk   Rice  Spices  Vegetables\n",
      "0   True   False  False   True   True  False   False       False\n",
      "1  False   False   True  False  False   True   False        True\n",
      "2   True    True  False  False   True  False   False       False\n",
      "3  False   False   True   True  False   True   False       False\n",
      "4   True    True  False   True   True  False   False       False\n",
      "5  False   False   True  False  False  False    True        True\n",
      "6   True   False  False  False   True  False   False       False\n",
      "7  False   False  False   True   True  False   False       False\n",
      "8   True    True  False  False  False  False   False        True\n",
      "9  False   False   True  False   True   True   False       False\n",
      "\n",
      "Frequent Itemsets:\n",
      "     support         itemsets\n",
      "0       0.5          (Bread)\n",
      "1       0.3         (Butter)\n",
      "2       0.4            (Dal)\n",
      "3       0.4           (Eggs)\n",
      "4       0.6           (Milk)\n",
      "5       0.3           (Rice)\n",
      "6       0.3     (Vegetables)\n",
      "7       0.3  (Butter, Bread)\n",
      "8       0.4    (Milk, Bread)\n",
      "9       0.3      (Rice, Dal)\n",
      "10      0.3     (Milk, Eggs)\n",
      "\n",
      "Association Rules:\n",
      "   antecedents consequents  support  confidence      lift\n",
      "0    (Butter)     (Bread)      0.3    1.000000  2.000000\n",
      "1     (Bread)    (Butter)      0.3    0.600000  2.000000\n",
      "2      (Milk)     (Bread)      0.4    0.666667  1.333333\n",
      "3     (Bread)      (Milk)      0.4    0.800000  1.333333\n",
      "4      (Rice)       (Dal)      0.3    1.000000  2.500000\n",
      "5       (Dal)      (Rice)      0.3    0.750000  2.500000\n",
      "6      (Eggs)      (Milk)      0.3    0.750000  1.250000\n"
     ]
    }
   ],
   "source": [
    "import pandas as pd\n",
    "from mlxtend.frequent_patterns import apriori, association_rules\n",
    "from mlxtend.preprocessing import TransactionEncoder\n",
    "\n",
    "# Sample transactional dataset\n",
    "transactions = [\n",
    "    [\"Milk\", \"Bread\", \"Eggs\"],\n",
    "    [\"Rice\", \"Dal\", \"Vegetables\"],\n",
    "    [\"Milk\", \"Bread\", \"Butter\"],\n",
    "    [\"Eggs\", \"Rice\", \"Dal\"],\n",
    "    [\"Milk\", \"Eggs\", \"Bread\", \"Butter\"],\n",
    "    [\"Dal\", \"Vegetables\", \"Spices\"],\n",
    "    [\"Milk\", \"Bread\"],\n",
    "    [\"Milk\", \"Eggs\"],\n",
    "    [\"Bread\", \"Butter\", \"Vegetables\"],\n",
    "    [\"Rice\", \"Dal\", \"Milk\"]\n",
    "]\n",
    "\n",
    "# Convert transactions to the appropriate format using TransactionEncoder\n",
    "encoder = TransactionEncoder()\n",
    "encoded_data = encoder.fit(transactions).transform(transactions)\n",
    "df = pd.DataFrame(encoded_data, columns=encoder.columns_)\n",
    "\n",
    "# Print the dataset (encoded transactions)\n",
    "print(\"Encoded Dataset:\\n\", df)\n",
    "\n",
    "# Apply Apriori algorithm with min_support=0.3 (30%)\n",
    "frequent_itemsets = apriori(df, min_support=0.3, use_colnames=True)\n",
    "\n",
    "# Print frequent itemsets\n",
    "print(\"\\nFrequent Itemsets:\\n\", frequent_itemsets)\n",
    "\n",
    "# Generate association rules with min_threshold=0.6 (60% confidence)\n",
    "rules = association_rules(frequent_itemsets, metric=\"confidence\", min_threshold=0.6)\n",
    "\n",
    "# Print the association rules\n",
    "print(\"\\nAssociation Rules:\\n\", rules[[\"antecedents\", \"consequents\", \"support\", \"confidence\", \"lift\"]])\n"
   ]
  }
 ],
 "metadata": {
  "kernelspec": {
   "display_name": "dwdm_env",
   "language": "python",
   "name": "python3"
  },
  "language_info": {
   "codemirror_mode": {
    "name": "ipython",
    "version": 3
   },
   "file_extension": ".py",
   "mimetype": "text/x-python",
   "name": "python",
   "nbconvert_exporter": "python",
   "pygments_lexer": "ipython3",
   "version": "3.12.8"
  }
 },
 "nbformat": 4,
 "nbformat_minor": 2
}
