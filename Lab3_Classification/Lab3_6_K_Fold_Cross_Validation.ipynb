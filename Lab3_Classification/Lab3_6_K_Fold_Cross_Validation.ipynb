{
 "cells": [
  {
   "cell_type": "code",
   "execution_count": 2,
   "metadata": {},
   "outputs": [
    {
     "name": "stdout",
     "output_type": "stream",
     "text": [
      "Cross-validation scores: [2779.92344921 3028.83633883 3237.6875877  3008.74648884 2910.21268776]\n",
      "Mean Cross-validation score (MSE): 2993.08\n",
      "Standard Deviation of Cross-validation scores: 150.77\n"
     ]
    }
   ],
   "source": [
    "# Import necessary libraries\n",
    "import pandas as pd\n",
    "import numpy as np\n",
    "from sklearn.linear_model import LinearRegression\n",
    "from sklearn.model_selection import cross_val_score\n",
    "from sklearn.datasets import load_diabetes\n",
    "\n",
    "# Load the diabetes dataset\n",
    "diabetes = load_diabetes()\n",
    "\n",
    "# Convert the dataset into a DataFrame\n",
    "df = pd.DataFrame(data=diabetes.data, columns=diabetes.feature_names)\n",
    "df['target'] = diabetes.target\n",
    "\n",
    "# Features (X) and Target (y)\n",
    "X = df[diabetes.feature_names]  # All the feature columns\n",
    "y = df['target']  # Target variable (diabetes progression)\n",
    "\n",
    "# Create a Linear Regression model\n",
    "linear_reg = LinearRegression()\n",
    "\n",
    "# Perform K-Fold Cross Validation with 5 folds\n",
    "cv_scores = cross_val_score(linear_reg, X, y, cv=5, scoring='neg_mean_squared_error')\n",
    "\n",
    "# Convert the negative MSE to positive\n",
    "cv_scores = -cv_scores\n",
    "\n",
    "# Print the cross-validation scores\n",
    "print(f\"Cross-validation scores: {cv_scores}\")\n",
    "print(f\"Mean Cross-validation score (MSE): {cv_scores.mean():.2f}\")\n",
    "print(f\"Standard Deviation of Cross-validation scores: {cv_scores.std():.2f}\")\n"
   ]
  }
 ],
 "metadata": {
  "kernelspec": {
   "display_name": "dwdm_env",
   "language": "python",
   "name": "python3"
  },
  "language_info": {
   "codemirror_mode": {
    "name": "ipython",
    "version": 3
   },
   "file_extension": ".py",
   "mimetype": "text/x-python",
   "name": "python",
   "nbconvert_exporter": "python",
   "pygments_lexer": "ipython3",
   "version": "3.12.8"
  }
 },
 "nbformat": 4,
 "nbformat_minor": 2
}
